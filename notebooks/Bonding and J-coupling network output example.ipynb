{
 "worksheets": [
  {
   "cells": [
    {
     "cell_type": "markdown",
     "metadata": {},
     "source": [
      "Plotting bonding and NMR J-coupling networks in IPython\n",
      "======================================================="
     ]
    },
    {
     "cell_type": "markdown",
     "metadata": {},
     "source": [
      "First, let's import the `magres.atoms` library and use it to load a [CASTEP](http://www.castep.org) calculation output. This calculation was performed on an ethanol molecule between every nucleus with the following input files (`jcoupling_site` set to `C 1` as an example):\n",
      "\n",
      "### ethanol.cell\n",
      "\n",
      "```\n",
      "%block POSITIONS_ABS\n",
      "ang\n",
      "H -0.869341 -0.175289 -0.649057\n",
      "H 0.183454 -0.923201 0.560623\n",
      "H 0.869130 0.198626 -0.628783\n",
      "H -1.129705 0.975874 1.565773\n",
      "H -0.437769 2.079941 0.372865\n",
      "H 1.061671 0.678653 2.298066\n",
      "C -0.003000 -0.003000 -0.003000\n",
      "C -0.246915 1.165107 0.938396\n",
      "O 0.896314 1.459074 1.742964\n",
      "%endblock POSITIONS_ABS\n",
      "\n",
      "%block SPECIES_POT\n",
      "H H_POT.ASC.DAT\n",
      "C C_POT.ASC.DAT\n",
      "O O_POT.ASC.DAT\n",
      "%endblock SPECIES_POT\n",
      "\n",
      "%block LATTICE_CART\n",
      "ang\n",
      "6.000000 0.000000 0.000000\n",
      "0.000000 6.000000 0.000000\n",
      "0.000000 0.000000 6.000000\n",
      "%endblock LATTICE_CART\n",
      "\n",
      "jcoupling_site: C 1\n",
      "kpoint_mp_grid 1 1 1\n",
      "kpoint_mp_offset 0.25 0.25 0.25\n",
      "```\n",
      "\n",
      "### ethanol.param\n",
      "\n",
      "```\n",
      "opt_strategy   : speed\n",
      "task           : magres\n",
      "magres_task    : jcoupling\n",
      "cut_off_energy : 80 ry \n",
      "xc_functional  : PBE\n",
      "popn_calculate : true\n",
      "spin_polarized : false\n",
      "max_scf_cycles : 60\n",
      "nextra_bands   : 20\n",
      "```"
     ]
    },
    {
     "cell_type": "code",
     "execution_count": null,
     "metadata": {},
     "outputs": [
      {
       "ename": "FileNotFoundError",
       "evalue": "[Errno 2] No such file or directory: '../samples/ethanol-all.magres'",
       "output_type": "pyerr",
       "traceback": [
        "\u001b[0;31m---------------------------------------------------------------------------\u001b[0m",
        "\u001b[0;31mFileNotFoundError\u001b[0m                         Traceback (most recent call last)",
        "\u001b[0;32m<ipython-input-1-d218691f54bc>\u001b[0m in \u001b[0;36m<module>\u001b[0;34m()\u001b[0m\n\u001b[1;32m      1\u001b[0m \u001b[0;32mfrom\u001b[0m \u001b[0mmagres\u001b[0m\u001b[0;34m.\u001b[0m\u001b[0matoms\u001b[0m \u001b[0;32mimport\u001b[0m \u001b[0mMagresAtoms\u001b[0m\u001b[0;34m,\u001b[0m \u001b[0mMagresAtomsView\u001b[0m\u001b[0;34m\u001b[0m\u001b[0m\n\u001b[0;32m----> 2\u001b[0;31m \u001b[0methanol_atoms\u001b[0m \u001b[0;34m=\u001b[0m \u001b[0mMagresAtoms\u001b[0m\u001b[0;34m.\u001b[0m\u001b[0mload_magres\u001b[0m\u001b[0;34m(\u001b[0m\u001b[0;34m'../samples/ethanol-all.magres'\u001b[0m\u001b[0;34m)\u001b[0m\u001b[0;34m\u001b[0m\u001b[0m\n\u001b[0m",
        "\u001b[0;32m/Users/christian/Dropbox/PycharmProjects/magres-format/magres/atoms.py\u001b[0m in \u001b[0;36mload_magres\u001b[0;34m(self, f)\u001b[0m\n\u001b[1;32m    596\u001b[0m \u001b[0;34m\u001b[0m\u001b[0m\n\u001b[1;32m    597\u001b[0m     \u001b[0;32mif\u001b[0m \u001b[0mtype\u001b[0m\u001b[0;34m(\u001b[0m\u001b[0mf\u001b[0m\u001b[0;34m)\u001b[0m \u001b[0;34m==\u001b[0m \u001b[0mstr\u001b[0m\u001b[0;34m:\u001b[0m\u001b[0;34m\u001b[0m\u001b[0m\n\u001b[0;32m--> 598\u001b[0;31m       \u001b[0mmagres_file\u001b[0m \u001b[0;34m=\u001b[0m \u001b[0mMagresFile\u001b[0m\u001b[0;34m(\u001b[0m\u001b[0mopen\u001b[0m\u001b[0;34m(\u001b[0m\u001b[0mf\u001b[0m\u001b[0;34m)\u001b[0m\u001b[0;34m)\u001b[0m\u001b[0;34m\u001b[0m\u001b[0m\n\u001b[0m\u001b[1;32m    599\u001b[0m       \u001b[0mmagres_file\u001b[0m\u001b[0;34m.\u001b[0m\u001b[0mpath\u001b[0m \u001b[0;34m=\u001b[0m \u001b[0mf\u001b[0m\u001b[0;34m\u001b[0m\u001b[0m\n\u001b[1;32m    600\u001b[0m     \u001b[0;32melif\u001b[0m \u001b[0mtype\u001b[0m\u001b[0;34m(\u001b[0m\u001b[0mf\u001b[0m\u001b[0;34m)\u001b[0m \u001b[0;34m==\u001b[0m \u001b[0mMagresFile\u001b[0m\u001b[0;34m:\u001b[0m\u001b[0;34m\u001b[0m\u001b[0m\n",
        "\u001b[0;31mFileNotFoundError\u001b[0m: [Errno 2] No such file or directory: '../samples/ethanol-all.magres'"
       ]
      }
     ],
     "input": [
      "from magres.atoms import MagresAtoms, MagresAtomsView\n",
      "ethanol_atoms = MagresAtoms.load_magres('../samples/ethanol-all.magres')"
     ],
     "language": "python",
     "prompt_number": 1
    },
    {
     "cell_type": "markdown",
     "metadata": {},
     "source": [
      "IPython's rich representations means that if you just put a set of atoms to the IPython notebook console, the `magres.atoms` library will automatically produce an image of the structure. This is generated using `pydot`, which is a Python interface to the graph (as in graph theory) plotting program `graphviz`.\n",
      "\n",
      "If present, it will also plot the (unreferenced) magnetic shielding below the atom label, and plot the largest indirect nuclear spin-spin interactions (J-coupling) as lines between nuclei. Red lines mean a positive sign on the reduced isotropic coupling and blue lines a negative one."
     ]
    },
    {
     "cell_type": "markdown",
     "metadata": {},
     "source": [
      "Let's also load in bonding information from a .castep file. This is a bit of a hack right now."
     ]
    },
    {
     "cell_type": "code",
     "execution_count": null,
     "metadata": {},
     "outputs": [],
     "input": [
      "#castep_file = open('../samples/ethanol.castep').read()\n",
      "\n",
      "ethanol_atoms.calculate_bonds()"
     ],
     "language": "python",
     "prompt_number": 2
    },
    {
     "cell_type": "markdown",
     "metadata": {},
     "source": [
      "This is done by the `magres.atoms.MagresAtomsView` class implementing a `_repr_png_` method, returning raw png data.\n",
      "\n",
      "You can also show just a subset of atoms, e.g. all atoms bonded to `C1` plus `C1` itself."
     ]
    },
    {
     "cell_type": "code",
     "execution_count": null,
     "metadata": {},
     "outputs": [
      {
       "output_type": "pyout",
       "prompt_number": 3,
       "text": [
        "<magres.atom.MagresAtomsView - 5 atoms>"
       ],
       "metadata": {}
      }
     ],
     "input": [
      "(ethanol_atoms.C1 + ethanol_atoms.C1.bonded)"
     ],
     "language": "python",
     "prompt_number": 3
    },
    {
     "cell_type": "markdown",
     "metadata": {},
     "source": [
      "You might use this to investigate a sub-section of a system.\n",
      "\n",
      "Here's the J-coupling network just between hydrogen atoms."
     ]
    },
    {
     "cell_type": "markdown",
     "metadata": {},
     "source": [
      "Alanine system\n",
      "==============\n",
      "\n",
      "Let's try another, larger system. From [the Wikipedia page on Alanine](http://en.wikipedia.org/wiki/Alanine):\n",
      "\n",
      "> Alanine (abbreviated as Ala or A) is an α-amino acid with the chemical formula CH3CH(NH2)COOH. The L-isomer is one of the 20 amino acids encoded by the genetic code. Its codons are GCU, GCC, GCA, and GCG. It is classified as a nonpolar amino acid. L-Alanine is second only to leucine in rate of occurrence, accounting for 7.8% of the primary structure in a sample of 1,150 proteins. D-Alanine occurs in bacterial cell walls and in some peptide antibiotics.\n",
      "\n",
      "Here we look at its solid-state crystalline form.\n",
      "\n",
      "Let's load our calculation. This only has J-coupling calculations between some of the nuclei in the system."
     ]
    },
    {
     "cell_type": "code",
     "execution_count": null,
     "metadata": {},
     "outputs": [],
     "input": [
      "alanine_atoms = MagresAtoms.load_magres('../samples/alanine-jc-all.magres')\n",
      "\n",
      "#castep_file = open('../samples/alanine.castep').read()\n",
      "\n",
      "alanine_atoms.calculate_bonds()"
     ],
     "language": "python",
     "prompt_number": 4
    },
    {
     "cell_type": "markdown",
     "metadata": {},
     "source": [
      "Again, all we need to do print the bonding network is output the atoms object to the IPython console."
     ]
    },
    {
     "cell_type": "code",
     "execution_count": null,
     "metadata": {},
     "outputs": [
      {
       "output_type": "pyout",
       "prompt_number": 5,
       "text": [
        "<magres.atom.MagresAtoms - 52 atoms>"
       ],
       "metadata": {}
      }
     ],
     "input": [
      "alanine_atoms"
     ],
     "language": "python",
     "prompt_number": 5
    },
    {
     "cell_type": "markdown",
     "metadata": {},
     "source": [
      "You can already see a few interesting features, such as the H-bonding mediated J-coupling between nitrogen and oxygen molecules, e.g. N2 to O1.\n",
      "\n",
      "Let's look at that more closely. We can select all atoms within 2 Angstroms of N1, N2, O1 and O3 (the two H-bridges) by doing a `.within` query and adding together the sets."
     ]
    },
    {
     "cell_type": "code",
     "execution_count": null,
     "metadata": {},
     "outputs": [
      {
       "output_type": "pyout",
       "prompt_number": 6,
       "text": [
        "<magres.atom.MagresAtomsView - 16 atoms>"
       ],
       "metadata": {}
      }
     ],
     "input": [
      "alanine_atoms.N1.bonded + alanine_atoms.N2.bonded + \\\n",
      "alanine_atoms.O1.bonded + alanine_atoms.O3.bonded + \\\n",
      "alanine_atoms.N1 + alanine_atoms.N2 + alanine_atoms.O1 + alanine_atoms.O3"
     ],
     "language": "python",
     "prompt_number": 6
    },
    {
     "cell_type": "markdown",
     "metadata": {},
     "source": [
      "Let's recurse along the the bonding network to pluck out an individual alanine molecule."
     ]
    },
    {
     "cell_type": "code",
     "execution_count": null,
     "metadata": {},
     "outputs": [],
     "input": [
      "def get_molecule(atom):\n",
      "    atoms = set()\n",
      "\n",
      "    def _get_molecule(atom1):\n",
      "        for atom2 in atom1.bonded:\n",
      "            if atom2 not in atoms:\n",
      "                atoms.add(atom2)\n",
      "                _get_molecule(atom2)\n",
      "                \n",
      "    _get_molecule(atom)\n",
      "    \n",
      "    return MagresAtomsView(list(atoms), atom.bonded.lattice)"
     ],
     "language": "python",
     "prompt_number": 7
    },
    {
     "cell_type": "code",
     "execution_count": null,
     "metadata": {},
     "outputs": [
      {
       "output_type": "pyout",
       "prompt_number": 8,
       "text": [
        "<magres.atom.MagresAtomsView - 164 atoms>"
       ],
       "metadata": {}
      }
     ],
     "input": [
      "get_molecule(alanine_atoms.N1)"
     ],
     "language": "python",
     "prompt_number": 8
    }
   ]
  }
 ],
 "cells": [],
 "metadata": {
  "name": "",
  "signature": "sha256:0c41c7f017720cbd9b9394862bf223d7b88500f0fca27c75b1a18002ea833a8f"
 },
 "nbformat": 3,
 "nbformat_minor": 0
}
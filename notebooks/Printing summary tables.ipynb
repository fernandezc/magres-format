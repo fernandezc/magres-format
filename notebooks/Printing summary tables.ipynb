{
 "metadata": {
  "name": "",
  "signature": "sha256:704f8cb369acad4b2c5507f696940acb05b0695aee1108c189f4d238501c93d2"
 },
 "nbformat": 3,
 "nbformat_minor": 0,
 "worksheets": [
  {
   "cells": [
    {
     "cell_type": "markdown",
     "metadata": {},
     "source": [
      "Getting summaries of chemical shifts\n",
      "===================================="
     ]
    },
    {
     "cell_type": "markdown",
     "metadata": {},
     "source": [
      "First, let's load in `MagresAtoms` from the `magres` module, so we can load the .magres file:"
     ]
    },
    {
     "cell_type": "code",
     "collapsed": false,
     "input": [
      "from magres.atoms import MagresAtoms\n",
      "\n",
      "atoms = MagresAtoms.load_magres('../samples/glycine-relaxed.magres')\n",
      "\n",
      "print \"We have\", len(atoms), \"atoms\""
     ],
     "language": "python",
     "metadata": {},
     "outputs": [
      {
       "output_type": "stream",
       "stream": "stdout",
       "text": [
        "We have 20 atoms\n"
       ]
      }
     ],
     "prompt_number": 1
    },
    {
     "cell_type": "markdown",
     "metadata": {},
     "source": [
      "We now have the atomic and magres data in the `atoms` variable. There are 20 atoms because there are two glycine molecules in our unit cell."
     ]
    },
    {
     "cell_type": "markdown",
     "metadata": {},
     "source": [
      "Suppose we want to show the anistropy as well as the isotropic shielding. In this case, we can loop over all the hydrogen atoms with a `for` loop and print out the `ms.iso` and `ms.aniso` properties of the `atom`:"
     ]
    },
    {
     "cell_type": "code",
     "collapsed": false,
     "input": [
      "for atom in atoms.species('H'):\n",
      "    print atom, atom.ms.iso, atom.ms.aniso"
     ],
     "language": "python",
     "metadata": {},
     "outputs": [
      {
       "output_type": "stream",
       "stream": "stdout",
       "text": [
        "1H1 21.260057521 24.0918885837\n",
        "1H2 18.3481040425 30.1801849788\n",
        "1H3 25.0518856127 15.2526591505\n",
        "1H4 27.1289715665 7.67766255334\n",
        "1H5 27.3806922257 -5.11250236358\n",
        "1H6 21.260135207 24.0959617751\n",
        "1H7 18.3477922956 30.1774257926\n",
        "1H8 25.0521845075 15.2530187323\n",
        "1H9 27.1295911445 7.67488078113\n",
        "1H10 27.3808522391 -5.11108086678\n"
       ]
      }
     ],
     "prompt_number": 2
    },
    {
     "cell_type": "markdown",
     "metadata": {},
     "source": [
      "Add some formatting to make it more readable:"
     ]
    },
    {
     "cell_type": "code",
     "collapsed": false,
     "input": [
      "print \"atom\\tiso\\taniso\"\n",
      "for atom in atoms.species('H'):\n",
      "    print \"{}\\t{:.2f}\\t{:.2f}\".format(atom, atom.ms.iso, atom.ms.aniso)"
     ],
     "language": "python",
     "metadata": {},
     "outputs": [
      {
       "output_type": "stream",
       "stream": "stdout",
       "text": [
        "atom\tiso\taniso\n",
        "1H1\t21.26\t24.09\n",
        "1H2\t18.35\t30.18\n",
        "1H3\t25.05\t15.25\n",
        "1H4\t27.13\t7.68\n",
        "1H5\t27.38\t-5.11\n",
        "1H6\t21.26\t24.10\n",
        "1H7\t18.35\t30.18\n",
        "1H8\t25.05\t15.25\n",
        "1H9\t27.13\t7.67\n",
        "1H10\t27.38\t-5.11\n"
       ]
      }
     ],
     "prompt_number": 3
    },
    {
     "cell_type": "markdown",
     "metadata": {},
     "source": [
      "If we want the chemical shifts, we also need to set a reference on the hydrogens. Let's do that, with a reference of 40.0 chosen arbitrarily:"
     ]
    },
    {
     "cell_type": "code",
     "collapsed": false,
     "input": [
      "atoms.species('H').set_reference(40.0)"
     ],
     "language": "python",
     "metadata": {},
     "outputs": [],
     "prompt_number": 4
    },
    {
     "cell_type": "markdown",
     "metadata": {},
     "source": [
      "and printing out the chemical shift and anisotropy"
     ]
    },
    {
     "cell_type": "code",
     "collapsed": false,
     "input": [
      "print \"atom\\tcs\\taniso\"\n",
      "for atom in atoms.species('H'):\n",
      "    print \"{}\\t{:.2f}\\t{:.2f}\".format(atom, atom.ms.cs, atom.ms.aniso)"
     ],
     "language": "python",
     "metadata": {},
     "outputs": [
      {
       "output_type": "stream",
       "stream": "stdout",
       "text": [
        "atom\tcs\taniso\n",
        "1H1\t18.74\t24.09\n",
        "1H2\t21.65\t30.18\n",
        "1H3\t14.95\t15.25\n",
        "1H4\t12.87\t7.68\n",
        "1H5\t12.62\t-5.11\n",
        "1H6\t18.74\t24.10\n",
        "1H7\t21.65\t30.18\n",
        "1H8\t14.95\t15.25\n",
        "1H9\t12.87\t7.67\n",
        "1H10\t12.62\t-5.11\n"
       ]
      }
     ],
     "prompt_number": 5
    }
   ],
   "metadata": {}
  }
 ]
}
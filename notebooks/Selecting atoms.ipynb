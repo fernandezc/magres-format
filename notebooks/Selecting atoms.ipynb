{
 "metadata": {
  "name": "",
  "signature": "sha256:d8dd4cd6af298269eb98b4df09d60689869fab377bc652358fefd1190b207ae8"
 },
 "nbformat": 3,
 "nbformat_minor": 0,
 "worksheets": [
  {
   "cells": [
    {
     "cell_type": "code",
     "collapsed": false,
     "input": [
      "from magres.atoms import MagresAtoms"
     ],
     "language": "python",
     "metadata": {},
     "outputs": [],
     "prompt_number": 1
    },
    {
     "cell_type": "code",
     "collapsed": false,
     "input": [
      "atoms = MagresAtoms.load_magres('../samples/ethanol-all.magres')"
     ],
     "language": "python",
     "metadata": {},
     "outputs": [],
     "prompt_number": 2
    },
    {
     "cell_type": "markdown",
     "metadata": {},
     "source": [
      "`atoms` is now a collection containing all the atoms in the system"
     ]
    },
    {
     "cell_type": "code",
     "collapsed": false,
     "input": [
      "atoms"
     ],
     "language": "python",
     "metadata": {},
     "outputs": [
      {
       "metadata": {},
       "output_type": "pyout",
       "prompt_number": 3,
       "text": [
        "<magres.atom.MagresAtoms - 9 atoms>"
       ]
      }
     ],
     "prompt_number": 3
    },
    {
     "cell_type": "markdown",
     "metadata": {},
     "source": [
      "`MagresAtoms` behaves like a `list`, you can use standard builtin functions like `len` on it, which returns the number of atoms"
     ]
    },
    {
     "cell_type": "code",
     "collapsed": false,
     "input": [
      "len(atoms)"
     ],
     "language": "python",
     "metadata": {},
     "outputs": [
      {
       "metadata": {},
       "output_type": "pyout",
       "prompt_number": 4,
       "text": [
        "9"
       ]
      }
     ],
     "prompt_number": 4
    },
    {
     "cell_type": "markdown",
     "metadata": {},
     "source": [
      "Again, like a `list`, you can iterate over all the atoms"
     ]
    },
    {
     "cell_type": "code",
     "collapsed": false,
     "input": [
      "for atom in atoms:\n",
      "    print atom"
     ],
     "language": "python",
     "metadata": {},
     "outputs": [
      {
       "output_type": "stream",
       "stream": "stdout",
       "text": [
        "1H1\n",
        "1H2\n",
        "1H3\n",
        "1H4\n",
        "1H5\n",
        "1H6\n",
        "13C1\n",
        "13C2\n",
        "17O1\n"
       ]
      }
     ],
     "prompt_number": 5
    },
    {
     "cell_type": "markdown",
     "metadata": {},
     "source": [
      "There are shortcuts for selecting a particular atom of a particular species. The following code picks out the first carbon atom"
     ]
    },
    {
     "cell_type": "code",
     "collapsed": false,
     "input": [
      "atoms.C1"
     ],
     "language": "python",
     "metadata": {},
     "outputs": [
      {
       "metadata": {},
       "output_type": "pyout",
       "prompt_number": 6,
       "text": [
        "<magres.atom.MagresAtom - 13C1>"
       ]
      }
     ],
     "prompt_number": 6
    },
    {
     "cell_type": "markdown",
     "metadata": {},
     "source": [
      "Atoms are objects and have properties, such as `position`, which is returned as a numpy array"
     ]
    },
    {
     "cell_type": "code",
     "collapsed": false,
     "input": [
      "atoms.C1.position"
     ],
     "language": "python",
     "metadata": {},
     "outputs": [
      {
       "metadata": {},
       "output_type": "pyout",
       "prompt_number": 7,
       "text": [
        "array([-0.004, -0.004, -0.004])"
       ]
      }
     ],
     "prompt_number": 7
    },
    {
     "cell_type": "markdown",
     "metadata": {},
     "source": [
      "You can select subsets of atoms, which also behave like lists. For example, to select all hydrogen atoms in the system"
     ]
    },
    {
     "cell_type": "code",
     "collapsed": false,
     "input": [
      "atoms.species(\"H\")"
     ],
     "language": "python",
     "metadata": {},
     "outputs": [
      {
       "metadata": {},
       "output_type": "pyout",
       "prompt_number": 8,
       "text": [
        "<magres.atom.MagresAtomsView - 6 atoms>"
       ]
      }
     ],
     "prompt_number": 8
    }
   ],
   "metadata": {}
  }
 ]
}